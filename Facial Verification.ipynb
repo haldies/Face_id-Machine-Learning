{
 "cells": [
  {
   "cell_type": "markdown",
   "metadata": {},
   "source": [
    "# 1. Setup"
   ]
  },
  {
   "cell_type": "markdown",
   "metadata": {},
   "source": [
    "## 1.1 Install Dependencies"
   ]
  },
  {
   "cell_type": "code",
   "execution_count": null,
   "metadata": {},
   "outputs": [],
   "source": [
    "#!pip install tensorflow==2.10 tensorflow-gpu==2.10 opencv-python matplotlib"
   ]
  },
  {
   "cell_type": "code",
   "execution_count": null,
   "metadata": {},
   "outputs": [],
   "source": [
    "import tensorflow as tf\n",
    "print(tf.__version__)\n"
   ]
  },
  {
   "cell_type": "markdown",
   "metadata": {},
   "source": [
    "## 1.2 Import Dependencies"
   ]
  },
  {
   "cell_type": "code",
   "execution_count": 1,
   "metadata": {},
   "outputs": [],
   "source": [
    "import cv2\n",
    "import os\n",
    "import random\n",
    "import numpy as np\n",
    "from matplotlib import pyplot as plt\n"
   ]
  },
  {
   "cell_type": "code",
   "execution_count": 2,
   "metadata": {},
   "outputs": [],
   "source": [
    "from tensorflow.keras.models import Model\n",
    "from tensorflow.keras.layers import Layer, Conv2D, Dense, MaxPooling2D, Input, Flatten\n",
    "import tensorflow as tf"
   ]
  },
  {
   "cell_type": "markdown",
   "metadata": {},
   "source": [
    "## 1.3 Set GPU Growth"
   ]
  },
  {
   "cell_type": "code",
   "execution_count": 3,
   "metadata": {},
   "outputs": [
    {
     "name": "stdout",
     "output_type": "stream",
     "text": [
      "GPU is available\n"
     ]
    }
   ],
   "source": [
    "gpus = tf.config.experimental.list_physical_devices('GPU')\n",
    "if gpus:\n",
    "    # Set memory growth for each GPU\n",
    "    for gpu in gpus:\n",
    "        tf.config.experimental.set_memory_growth(gpu, True)\n",
    "    print(\"GPU is available\")\n",
    "else:\n",
    "    print(\"No GPU available, running on CPU\")"
   ]
  },
  {
   "cell_type": "markdown",
   "metadata": {},
   "source": [
    "## 1.4 Create Folder Structures"
   ]
  },
  {
   "cell_type": "code",
   "execution_count": 4,
   "metadata": {},
   "outputs": [
    {
     "name": "stdout",
     "output_type": "stream",
     "text": [
      "[PhysicalDevice(name='/physical_device:CPU:0', device_type='CPU'), PhysicalDevice(name='/physical_device:GPU:0', device_type='GPU')]\n"
     ]
    }
   ],
   "source": [
    "import tensorflow as tf\n",
    "print(tf.config.experimental.list_physical_devices())\n"
   ]
  },
  {
   "cell_type": "code",
   "execution_count": 11,
   "metadata": {},
   "outputs": [],
   "source": [
    "# Setup paths\n",
    "POS_PATH = os.path.join('data', 'positive')\n",
    "NEG_PATH = os.path.join('data', 'negative')\n",
    "ANC_PATH = os.path.join('data', 'anchor')"
   ]
  },
  {
   "cell_type": "code",
   "execution_count": 12,
   "metadata": {},
   "outputs": [
    {
     "ename": "FileExistsError",
     "evalue": "[WinError 183] Cannot create a file when that file already exists: 'data\\\\positive'",
     "output_type": "error",
     "traceback": [
      "\u001b[1;31m---------------------------------------------------------------------------\u001b[0m",
      "\u001b[1;31mFileExistsError\u001b[0m                           Traceback (most recent call last)",
      "Cell \u001b[1;32mIn[12], line 2\u001b[0m\n\u001b[0;32m      1\u001b[0m \u001b[38;5;66;03m# Make the directories\u001b[39;00m\n\u001b[1;32m----> 2\u001b[0m \u001b[43mos\u001b[49m\u001b[38;5;241;43m.\u001b[39;49m\u001b[43mmakedirs\u001b[49m\u001b[43m(\u001b[49m\u001b[43mPOS_PATH\u001b[49m\u001b[43m)\u001b[49m\n\u001b[0;32m      3\u001b[0m os\u001b[38;5;241m.\u001b[39mmakedirs(NEG_PATH)\n\u001b[0;32m      4\u001b[0m os\u001b[38;5;241m.\u001b[39mmakedirs(ANC_PATH)\n",
      "File \u001b[1;32m~\\anaconda3\\envs\\tessss\\lib\\os.py:225\u001b[0m, in \u001b[0;36mmakedirs\u001b[1;34m(name, mode, exist_ok)\u001b[0m\n\u001b[0;32m    223\u001b[0m         \u001b[38;5;28;01mreturn\u001b[39;00m\n\u001b[0;32m    224\u001b[0m \u001b[38;5;28;01mtry\u001b[39;00m:\n\u001b[1;32m--> 225\u001b[0m     \u001b[43mmkdir\u001b[49m\u001b[43m(\u001b[49m\u001b[43mname\u001b[49m\u001b[43m,\u001b[49m\u001b[43m \u001b[49m\u001b[43mmode\u001b[49m\u001b[43m)\u001b[49m\n\u001b[0;32m    226\u001b[0m \u001b[38;5;28;01mexcept\u001b[39;00m \u001b[38;5;167;01mOSError\u001b[39;00m:\n\u001b[0;32m    227\u001b[0m     \u001b[38;5;66;03m# Cannot rely on checking for EEXIST, since the operating system\u001b[39;00m\n\u001b[0;32m    228\u001b[0m     \u001b[38;5;66;03m# could give priority to other errors like EACCES or EROFS\u001b[39;00m\n\u001b[0;32m    229\u001b[0m     \u001b[38;5;28;01mif\u001b[39;00m \u001b[38;5;129;01mnot\u001b[39;00m exist_ok \u001b[38;5;129;01mor\u001b[39;00m \u001b[38;5;129;01mnot\u001b[39;00m path\u001b[38;5;241m.\u001b[39misdir(name):\n",
      "\u001b[1;31mFileExistsError\u001b[0m: [WinError 183] Cannot create a file when that file already exists: 'data\\\\positive'"
     ]
    }
   ],
   "source": [
    "# Make the directories\n",
    "os.makedirs(POS_PATH)\n",
    "os.makedirs(NEG_PATH)\n",
    "os.makedirs(ANC_PATH)"
   ]
  },
  {
   "cell_type": "markdown",
   "metadata": {},
   "source": [
    "# 2. Collect Positives and Anchors"
   ]
  },
  {
   "cell_type": "code",
   "execution_count": null,
   "metadata": {},
   "outputs": [],
   "source": [
    "#!tar -xf lfw.tgz"
   ]
  },
  {
   "cell_type": "markdown",
   "metadata": {},
   "source": [
    "## 2.1 Untar Labelled Faces in the Wild Dataset"
   ]
  },
  {
   "cell_type": "code",
   "execution_count": null,
   "metadata": {},
   "outputs": [],
   "source": [
    "#for directory in os.listdir('lfw'):\n",
    "    #for file in os.listdir(os.path.join('lfw', directory)):\n",
    "        #EX_PATH = os.path.join('lfw', directory, file)\n",
    "        #NEW_PATH = os.path.join(NEG_PATH, file)\n",
    "        #os.replace(EX_PATH, NEW_PATH)"
   ]
  },
  {
   "cell_type": "code",
   "execution_count": 13,
   "metadata": {},
   "outputs": [],
   "source": [
    "# Import uuid library to generate unique image names\n",
    "import uuid"
   ]
  },
  {
   "cell_type": "code",
   "execution_count": 14,
   "metadata": {},
   "outputs": [
    {
     "data": {
      "text/plain": [
       "'data\\\\anchor\\\\005bc5f6-b10f-11ee-8800-7c10c9268e7f.jpg'"
      ]
     },
     "execution_count": 14,
     "metadata": {},
     "output_type": "execute_result"
    }
   ],
   "source": [
    "os.path.join(ANC_PATH, '{}.jpg'.format(uuid.uuid1()))"
   ]
  },
  {
   "cell_type": "markdown",
   "metadata": {},
   "source": [
    "## 2.2 Collect Positive and Anchor Classes"
   ]
  },
  {
   "cell_type": "code",
   "execution_count": null,
   "metadata": {},
   "outputs": [],
   "source": [
    "#Establish a connection to the webcam\n",
    "cap = cv2.VideoCapture(0)\n",
    "while cap.isOpened(): \n",
    "\n",
    "    ret, frame = cap.read()\n",
    "\n",
    "    # Cut down frame to 250x250px\n",
    "    frame = frame[120:120+250,200:200+250, :]\n",
    "\n",
    "    # Collect anchors \n",
    "    if cv2.waitKey(1) & 0XFF == ord('a'):\n",
    "        # Create the unique file path \n",
    "        imgname = os.path.join(ANC_PATH, '{}.jpg'.format(uuid.uuid1()))\n",
    "        # Write out anchor image\n",
    "        cv2.imwrite(imgname, frame)\n",
    "    \n",
    "    # Collect positives\n",
    "    if cv2.waitKey(1) & 0XFF == ord('p'):\n",
    "        # Create the unique file path \n",
    "        imgname = os.path.join(POS_PATH, '{}.jpg'.format(uuid.uuid1()))\n",
    "        # Write out positive image\n",
    "        cv2.imwrite(imgname, frame)\n",
    "        \n",
    "    #show image back to screen\n",
    "    cv2.imshow('Image Collection', frame)\n",
    "    \n",
    "    # Breaking gracefully\n",
    "    if cv2.waitKey(1) & 0XFF == ord('q'):\n",
    "        break\n",
    "        \n",
    "# Release the webcam\n",
    "cap.release()\n",
    "# Close the image show frame\n",
    "cv2.destroyAllWindows()"
   ]
  },
  {
   "cell_type": "code",
   "execution_count": 15,
   "metadata": {},
   "outputs": [
    {
     "ename": "NameError",
     "evalue": "name 'frame' is not defined",
     "output_type": "error",
     "traceback": [
      "\u001b[1;31m---------------------------------------------------------------------------\u001b[0m",
      "\u001b[1;31mNameError\u001b[0m                                 Traceback (most recent call last)",
      "Cell \u001b[1;32mIn[15], line 1\u001b[0m\n\u001b[1;32m----> 1\u001b[0m plt\u001b[38;5;241m.\u001b[39mimshow(\u001b[43mframe\u001b[49m[\u001b[38;5;241m120\u001b[39m:\u001b[38;5;241m120\u001b[39m\u001b[38;5;241m+\u001b[39m\u001b[38;5;241m250\u001b[39m,\u001b[38;5;241m200\u001b[39m:\u001b[38;5;241m200\u001b[39m\u001b[38;5;241m+\u001b[39m\u001b[38;5;241m250\u001b[39m, :])\n",
      "\u001b[1;31mNameError\u001b[0m: name 'frame' is not defined"
     ]
    }
   ],
   "source": [
    "plt.imshow(frame[120:120+250,200:200+250, :])"
   ]
  },
  {
   "cell_type": "markdown",
   "metadata": {},
   "source": [
    "# 2.x NEW - Data Augmentation"
   ]
  },
  {
   "cell_type": "markdown",
   "metadata": {},
   "source": [
    "# 3. Load and Preprocess Images"
   ]
  },
  {
   "cell_type": "markdown",
   "metadata": {},
   "source": [
    "## 3.1 Get Image Directories"
   ]
  },
  {
   "cell_type": "code",
   "execution_count": 16,
   "metadata": {},
   "outputs": [],
   "source": [
    "anchor = tf.data.Dataset.list_files(ANC_PATH+'\\*.jpg').take(3000)\n",
    "positive = tf.data.Dataset.list_files(POS_PATH+'\\*.jpg').take(3000)\n",
    "negative = tf.data.Dataset.list_files(NEG_PATH+'\\*.jpg').take(3000)"
   ]
  },
  {
   "cell_type": "code",
   "execution_count": 17,
   "metadata": {},
   "outputs": [],
   "source": [
    "dir_test = anchor.as_numpy_iterator()"
   ]
  },
  {
   "cell_type": "code",
   "execution_count": 18,
   "metadata": {},
   "outputs": [
    {
     "name": "stdout",
     "output_type": "stream",
     "text": [
      "b'data\\\\anchor\\\\9e782d75-afdd-11ee-b522-ec2e98efdbd6.jpg'\n"
     ]
    }
   ],
   "source": [
    "print(dir_test.next())"
   ]
  },
  {
   "cell_type": "markdown",
   "metadata": {},
   "source": [
    "## 3.2 Preprocessing - Scale and Resize"
   ]
  },
  {
   "cell_type": "code",
   "execution_count": 19,
   "metadata": {},
   "outputs": [
    {
     "data": {
      "text/plain": [
       "<matplotlib.image.AxesImage at 0x22852bb5880>"
      ]
     },
     "execution_count": 19,
     "metadata": {},
     "output_type": "execute_result"
    },
    {
     "data": {
      "image/png": "[encoded data removed]",
      "text/plain": [
       "<Figure size 640x480 with 1 Axes>"
      ]
     },
     "metadata": {},
     "output_type": "display_data"
    }
   ],
   "source": [
    "def preprocess(file_path):\n",
    "    # Read in image from file path\n",
    "    byte_img = tf.io.read_file(file_path)\n",
    "    # Load in the image \n",
    "    img = tf.io.decode_jpeg(byte_img)\n",
    "    \n",
    "    # Preprocessing steps - resizing the image to be 100x100x3\n",
    "    img = tf.image.resize(img, (100,100))\n",
    "    # Scale image to be between 0 and 1 \n",
    "    img = img / 255.0\n",
    "\n",
    "    # Return image\n",
    "    return img\n",
    "img = preprocess('data\\\\anchor\\\\a4f4c74c-afdd-11ee-8885-ec2e98efdbd6.jpg')\n",
    "img.numpy().max() \n",
    "plt.imshow(img)"
   ]
  },
  {
   "cell_type": "markdown",
   "metadata": {},
   "source": [
    "## 3.3 Create Labelled Dataset"
   ]
  },
  {
   "cell_type": "code",
   "execution_count": 20,
   "metadata": {},
   "outputs": [],
   "source": [
    "positives = tf.data.Dataset.zip((anchor, positive, tf.data.Dataset.from_tensor_slices(tf.ones(len(anchor)))))\n",
    "negatives = tf.data.Dataset.zip((anchor, negative, tf.data.Dataset.from_tensor_slices(tf.zeros(len(anchor)))))\n",
    "data = positives.concatenate(negatives)"
   ]
  },
  {
   "cell_type": "code",
   "execution_count": 21,
   "metadata": {},
   "outputs": [
    {
     "data": {
      "text/plain": [
       "<ConcatenateDataset element_spec=(TensorSpec(shape=(), dtype=tf.string, name=None), TensorSpec(shape=(), dtype=tf.string, name=None), TensorSpec(shape=(), dtype=tf.float32, name=None))>"
      ]
     },
     "execution_count": 21,
     "metadata": {},
     "output_type": "execute_result"
    }
   ],
   "source": [
    "data"
   ]
  },
  {
   "cell_type": "code",
   "execution_count": 22,
   "metadata": {},
   "outputs": [
    {
     "data": {
      "text/plain": [
       "(b'data\\\\anchor\\\\9c211da4-afdd-11ee-b476-ec2e98efdbd6.jpg',\n",
       " b'data\\\\positive\\\\38331fac-afdd-11ee-b4c2-ec2e98efdbd6.jpg',\n",
       " 1.0)"
      ]
     },
     "execution_count": 22,
     "metadata": {},
     "output_type": "execute_result"
    }
   ],
   "source": [
    "samples = data.as_numpy_iterator()\n",
    "example = samples.next()\n",
    "example"
   ]
  },
  {
   "cell_type": "markdown",
   "metadata": {},
   "source": [
    "## 3.4 Build Train and Test Partition"
   ]
  },
  {
   "cell_type": "code",
   "execution_count": 23,
   "metadata": {},
   "outputs": [
    {
     "data": {
      "image/png": "[encoded data removed]",
      "text/plain": [
       "<Figure size 640x480 with 1 Axes>"
      ]
     },
     "metadata": {},
     "output_type": "display_data"
    }
   ],
   "source": [
    "def preprocess_twin(input_img, validation_img, label):\n",
    "    return(preprocess(input_img), preprocess(validation_img), label)\n",
    "res = preprocess_twin(*example)\n",
    "plt.imshow(res[1])\n",
    "res[2]\n",
    "# Build dataloader pipeline\n",
    "data = data.map(preprocess_twin)\n",
    "data = data.cache()\n",
    "data = data.shuffle(buffer_size=10000)\n",
    "# Training partition\n",
    "train_data = data.take(round(len(data)*.7))\n",
    "train_data = train_data.batch(16)\n",
    "train_data = train_data.prefetch(8)\n",
    "# Testing partition\n",
    "test_data = data.skip(round(len(data)*.7))\n",
    "test_data = test_data.take(round(len(data)*.3))\n",
    "test_data = test_data.batch(16)\n",
    "test_data = test_data.prefetch(8)"
   ]
  },
  {
   "cell_type": "markdown",
   "metadata": {},
   "source": [
    "# 4. Model Engineering"
   ]
  },
  {
   "cell_type": "markdown",
   "metadata": {},
   "source": [
    "## 4.1 Build Embedding Layer"
   ]
  },
  {
   "cell_type": "code",
   "execution_count": 24,
   "metadata": {},
   "outputs": [
    {
     "name": "stdout",
     "output_type": "stream",
     "text": [
      "Model: \"embedding\"\n",
      "_________________________________________________________________\n",
      " Layer (type)                Output Shape              Param #   \n",
      "=================================================================\n",
      " input_image (InputLayer)    [(None, 105, 105, 3)]     0         \n",
      "                                                                 \n",
      " conv2d (Conv2D)             (None, 96, 96, 64)        19264     \n",
      "                                                                 \n",
      " max_pooling2d (MaxPooling2D  (None, 48, 48, 64)       0         \n",
      " )                                                               \n",
      "                                                                 \n",
      " conv2d_1 (Conv2D)           (None, 42, 42, 128)       401536    \n",
      "                                                                 \n",
      " max_pooling2d_1 (MaxPooling  (None, 21, 21, 128)      0         \n",
      " 2D)                                                             \n",
      "                                                                 \n",
      " conv2d_2 (Conv2D)           (None, 18, 18, 128)       262272    \n",
      "                                                                 \n",
      " max_pooling2d_2 (MaxPooling  (None, 9, 9, 128)        0         \n",
      " 2D)                                                             \n",
      "                                                                 \n",
      " conv2d_3 (Conv2D)           (None, 6, 6, 256)         524544    \n",
      "                                                                 \n",
      " flatten (Flatten)           (None, 9216)              0         \n",
      "                                                                 \n",
      " dense (Dense)               (None, 4096)              37752832  \n",
      "                                                                 \n",
      "=================================================================\n",
      "Total params: 38,960,448\n",
      "Trainable params: 38,960,448\n",
      "Non-trainable params: 0\n",
      "_________________________________________________________________\n"
     ]
    }
   ],
   "source": [
    "inp = Input(shape=(105,105,3), name='input_image')\n",
    "c1 = Conv2D(64, (10,10), activation='relu')(inp)\n",
    "m1 = MaxPooling2D(64, (2,2), padding='same')(c1)\n",
    "c2 = Conv2D(128, (7,7), activation='relu')(m1)\n",
    "m2 = MaxPooling2D (64, (2,2), padding='same')(c2)\n",
    "c3 = Conv2D(128, (4,4), activation='relu')(m2)\n",
    "m3 = MaxPooling2D(64, (2,2), padding='same')(c3)\n",
    "c4 = Conv2D(256, (4,4), activation='relu')(m3)\n",
    "f1 = Flatten()(c4)\n",
    "d1 = Dense(4096, activation='sigmoid')(f1)\n",
    "mod = Model(inputs=[inp], outputs=[d1], name='embedding')\n",
    "mod.summary()"
   ]
  },
  {
   "cell_type": "code",
   "execution_count": 25,
   "metadata": {},
   "outputs": [
    {
     "name": "stdout",
     "output_type": "stream",
     "text": [
      "Model: \"embedding\"\n",
      "_________________________________________________________________\n",
      " Layer (type)                Output Shape              Param #   \n",
      "=================================================================\n",
      " input_image (InputLayer)    [(None, 100, 100, 3)]     0         \n",
      "                                                                 \n",
      " conv2d_4 (Conv2D)           (None, 91, 91, 64)        19264     \n",
      "                                                                 \n",
      " max_pooling2d_3 (MaxPooling  (None, 46, 46, 64)       0         \n",
      " 2D)                                                             \n",
      "                                                                 \n",
      " conv2d_5 (Conv2D)           (None, 40, 40, 128)       401536    \n",
      "                                                                 \n",
      " max_pooling2d_4 (MaxPooling  (None, 20, 20, 128)      0         \n",
      " 2D)                                                             \n",
      "                                                                 \n",
      " conv2d_6 (Conv2D)           (None, 17, 17, 128)       262272    \n",
      "                                                                 \n",
      " max_pooling2d_5 (MaxPooling  (None, 9, 9, 128)        0         \n",
      " 2D)                                                             \n",
      "                                                                 \n",
      " conv2d_7 (Conv2D)           (None, 6, 6, 256)         524544    \n",
      "                                                                 \n",
      " flatten_1 (Flatten)         (None, 9216)              0         \n",
      "                                                                 \n",
      " dense_1 (Dense)             (None, 4096)              37752832  \n",
      "                                                                 \n",
      "=================================================================\n",
      "Total params: 38,960,448\n",
      "Trainable params: 38,960,448\n",
      "Non-trainable params: 0\n",
      "_________________________________________________________________\n"
     ]
    }
   ],
   "source": [
    "def make_embedding(): \n",
    "    inp = Input(shape=(100,100,3), name='input_image')\n",
    "    \n",
    "    # First block\n",
    "    c1 = Conv2D(64, (10,10), activation='relu')(inp)\n",
    "    m1 = MaxPooling2D(64, (2,2), padding='same')(c1)\n",
    "    \n",
    "    # Second block\n",
    "    c2 = Conv2D(128, (7,7), activation='relu')(m1)\n",
    "    m2 = MaxPooling2D(64, (2,2), padding='same')(c2)\n",
    "    \n",
    "    # Third block \n",
    "    c3 = Conv2D(128, (4,4), activation='relu')(m2)\n",
    "    m3 = MaxPooling2D(64, (2,2), padding='same')(c3)\n",
    "    \n",
    "    # Final embedding block\n",
    "    c4 = Conv2D(256, (4,4), activation='relu')(m3)\n",
    "    f1 = Flatten()(c4)\n",
    "    d1 = Dense(4096, activation='sigmoid')(f1)\n",
    "    \n",
    "    \n",
    "    return Model(inputs=[inp], outputs=[d1], name='embedding')\n",
    "embedding = make_embedding()\n",
    "embedding.summary()"
   ]
  },
  {
   "cell_type": "markdown",
   "metadata": {},
   "source": [
    "## 4.3 Make Siamese Model"
   ]
  },
  {
   "cell_type": "code",
   "execution_count": 27,
   "metadata": {},
   "outputs": [
    {
     "name": "stdout",
     "output_type": "stream",
     "text": [
      "KerasTensor(type_spec=TensorSpec(shape=(None, 1), dtype=tf.float32, name=None), name='dense_2/Sigmoid:0', description=\"created by layer 'dense_2'\")\n",
      "Model: \"SiameseNetwork\"\n",
      "__________________________________________________________________________________________________\n",
      " Layer (type)                   Output Shape         Param #     Connected to                     \n",
      "==================================================================================================\n",
      " input_img (InputLayer)         [(None, 100, 100, 3  0           []                               \n",
      "                                )]                                                                \n",
      "                                                                                                  \n",
      " validation_img (InputLayer)    [(None, 100, 100, 3  0           []                               \n",
      "                                )]                                                                \n",
      "                                                                                                  \n",
      " embedding (Functional)         (None, 4096)         38960448    ['input_img[0][0]',              \n",
      "                                                                  'validation_img[0][0]']         \n",
      "                                                                                                  \n",
      " l1_dist_1 (L1Dist)             (None, 4096)         0           ['embedding[0][0]',              \n",
      "                                                                  'embedding[1][0]']              \n",
      "                                                                                                  \n",
      " dense_2 (Dense)                (None, 1)            4097        ['l1_dist_1[0][0]']              \n",
      "                                                                                                  \n",
      "==================================================================================================\n",
      "Total params: 38,964,545\n",
      "Trainable params: 38,964,545\n",
      "Non-trainable params: 0\n",
      "__________________________________________________________________________________________________\n"
     ]
    }
   ],
   "source": [
    "input_image = Input(name='input_img', shape=(100,100,3))\n",
    "validation_image = Input(name='validation_img', shape=(100,100,3))\n",
    "inp_embedding = embedding(input_image)\n",
    "val_embedding = embedding(validation_image)\n",
    "siamese_layer = L1Dist()\n",
    "distances = siamese_layer(inp_embedding, val_embedding)\n",
    "classifier = Dense(1, activation='sigmoid')(distances)\n",
    "classifier\n",
    "print(classifier)\n",
    "siamese_network = Model(inputs=[input_image, validation_image], outputs=classifier, name='SiameseNetwork')\n",
    "siamese_network.summary()"
   ]
  },
  {
   "cell_type": "code",
   "execution_count": 28,
   "metadata": {},
   "outputs": [
    {
     "name": "stdout",
     "output_type": "stream",
     "text": [
      "Model: \"SiameseNetwork\"\n",
      "__________________________________________________________________________________________________\n",
      " Layer (type)                   Output Shape         Param #     Connected to                     \n",
      "==================================================================================================\n",
      " input_img (InputLayer)         [(None, 100, 100, 3  0           []                               \n",
      "                                )]                                                                \n",
      "                                                                                                  \n",
      " validation_img (InputLayer)    [(None, 100, 100, 3  0           []                               \n",
      "                                )]                                                                \n",
      "                                                                                                  \n",
      " embedding (Functional)         (None, 4096)         38960448    ['input_img[0][0]',              \n",
      "                                                                  'validation_img[0][0]']         \n",
      "                                                                                                  \n",
      " l1_dist_2 (L1Dist)             (None, 4096)         0           ['embedding[2][0]',              \n",
      "                                                                  'embedding[3][0]']              \n",
      "                                                                                                  \n",
      " dense_3 (Dense)                (None, 1)            4097        ['l1_dist_2[0][0]']              \n",
      "                                                                                                  \n",
      "==================================================================================================\n",
      "Total params: 38,964,545\n",
      "Trainable params: 38,964,545\n",
      "Non-trainable params: 0\n",
      "__________________________________________________________________________________________________\n"
     ]
    }
   ],
   "source": [
    "def make_siamese_model():\n",
    "    input_image = input(name='input_img', shape=(100,100,3))\n",
    "    validation_image = input(name='validation_img', shape=(100, 100, 3))\n",
    "inp_embedding = embedding(input_image)\n",
    "val_embedding = embedding(validation_image)\n",
    "siamese_layer = L1Dist()\n",
    "distances = siamese_layer(inp_embedding, val_embedding)\n",
    "classifier = Dense(1, activation='sigmoid')(distances)\n",
    "classifier\n",
    "siamese_network = Model(inputs=[input_image, validation_image], outputs=classifier, name='SiameseNetwork')\n",
    "siamese_network.summary()"
   ]
  },
  {
   "cell_type": "code",
   "execution_count": 29,
   "metadata": {},
   "outputs": [
    {
     "name": "stdout",
     "output_type": "stream",
     "text": [
      "Model: \"SiameseNetwork\"\n",
      "__________________________________________________________________________________________________\n",
      " Layer (type)                   Output Shape         Param #     Connected to                     \n",
      "==================================================================================================\n",
      " input_img (InputLayer)         [(None, 100, 100, 3  0           []                               \n",
      "                                )]                                                                \n",
      "                                                                                                  \n",
      " validation_img (InputLayer)    [(None, 100, 100, 3  0           []                               \n",
      "                                )]                                                                \n",
      "                                                                                                  \n",
      " embedding (Functional)         (None, 4096)         38960448    ['input_img[0][0]',              \n",
      "                                                                  'validation_img[0][0]']         \n",
      "                                                                                                  \n",
      " distance (L1Dist)              (None, 4096)         0           ['embedding[4][0]',              \n",
      "                                                                  'embedding[5][0]']              \n",
      "                                                                                                  \n",
      " dense_4 (Dense)                (None, 1)            4097        ['distance[0][0]']               \n",
      "                                                                                                  \n",
      "==================================================================================================\n",
      "Total params: 38,964,545\n",
      "Trainable params: 38,964,545\n",
      "Non-trainable params: 0\n",
      "__________________________________________________________________________________________________\n"
     ]
    }
   ],
   "source": [
    "def make_siamese_model(): \n",
    "    \n",
    "    # Anchor image input in the network\n",
    "    input_image = Input(name='input_img', shape=(100,100,3))\n",
    "    \n",
    "    # Validation image in the network \n",
    "    validation_image = Input(name='validation_img', shape=(100,100,3))\n",
    "    \n",
    "    # Combine siamese distance components\n",
    "    siamese_layer = L1Dist()\n",
    "    siamese_layer._name = 'distance'\n",
    "    distances = siamese_layer(embedding(input_image), embedding(validation_image))\n",
    "    \n",
    "    # Classification layer \n",
    "    classifier = Dense(1, activation='sigmoid')(distances)\n",
    "    \n",
    "    return Model(inputs=[input_image, validation_image], outputs=classifier, name='SiameseNetwork')\n",
    "siamese_model = make_siamese_model()\n",
    "siamese_model.summary()"
   ]
  },
  {
   "cell_type": "markdown",
   "metadata": {},
   "source": [
    "## 5.1 Setup Loss and Optimizer"
   ]
  },
  {
   "cell_type": "code",
   "execution_count": 30,
   "metadata": {},
   "outputs": [],
   "source": [
    "binary_cross_loss = tf.losses.BinaryCrossentropy()\n",
    "opt = tf.keras.optimizers.Adam(1e-4)"
   ]
  },
  {
   "cell_type": "code",
   "execution_count": 31,
   "metadata": {},
   "outputs": [],
   "source": [
    "checkpoint_dir = './training_checkpoints'\n",
    "checkpoint_prefix = os.path.join(checkpoint_dir, 'ckpt')\n",
    "checkpoint = tf.train.Checkpoint(opt=opt, siamese_model=siamese_model)"
   ]
  },
  {
   "cell_type": "markdown",
   "metadata": {},
   "source": [
    "## 5.2 Establish Checkpoints"
   ]
  },
  {
   "cell_type": "code",
   "execution_count": null,
   "metadata": {},
   "outputs": [],
   "source": []
  },
  {
   "cell_type": "markdown",
   "metadata": {},
   "source": [
    "## 5.3 Build Train Step Function"
   ]
  },
  {
   "cell_type": "code",
   "execution_count": 32,
   "metadata": {},
   "outputs": [
    {
     "data": {
      "text/plain": [
       "array([1., 0., 0., 0., 0., 1., 0., 1., 0., 0., 0., 1., 0., 0., 0., 0.],\n",
       "      dtype=float32)"
      ]
     },
     "execution_count": 32,
     "metadata": {},
     "output_type": "execute_result"
    }
   ],
   "source": [
    "test_batch = train_data.as_numpy_iterator()\n",
    "batch_1 = test_batch.next()\n",
    "X = batch_1[:2]\n",
    "y = batch_1[2]\n",
    "y"
   ]
  },
  {
   "cell_type": "code",
   "execution_count": 33,
   "metadata": {},
   "outputs": [],
   "source": [
    "@tf.function\n",
    "def train_step(batch):\n",
    "    \n",
    "    # Record all of our operations \n",
    "    with tf.GradientTape() as tape:     \n",
    "        # Get anchor and positive/negative image\n",
    "        X = batch[:2]\n",
    "        # Get label\n",
    "        y = batch[2]\n",
    "        \n",
    "        # Forward pass\n",
    "        yhat = siamese_model(X, training=True)\n",
    "        # Calculate loss\n",
    "        loss = binary_cross_loss(y, yhat)\n",
    "    print(loss)\n",
    "    \n",
    "    # Calculate gradients\n",
    "    grad = tape.gradient(loss, siamese_model.trainable_variables)\n",
    "    \n",
    "    # Calculate updated weights and apply to siamese model\n",
    "    opt.apply_gradients(zip(grad, siamese_model.trainable_variables))\n",
    "        \n",
    "    # Return loss\n",
    "    return loss"
   ]
  },
  {
   "cell_type": "markdown",
   "metadata": {},
   "source": [
    "## 5.4 Build Training Loop"
   ]
  },
  {
   "cell_type": "code",
   "execution_count": 34,
   "metadata": {},
   "outputs": [],
   "source": [
    "# Import metric calculations\n",
    "from tensorflow.keras.metrics import Precision, Recall"
   ]
  },
  {
   "cell_type": "markdown",
   "metadata": {},
   "source": [
    "## 5.5 Train the model"
   ]
  },
  {
   "cell_type": "code",
   "execution_count": 42,
   "metadata": {},
   "outputs": [
    {
     "name": "stdout",
     "output_type": "stream",
     "text": [
      "\n",
      " Epoch 1/50\n",
      "Tensor(\"binary_crossentropy/weighted_loss/value:0\", shape=(), dtype=float32)\n",
      "Tensor(\"binary_crossentropy/weighted_loss/value:0\", shape=(), dtype=float32)\n",
      "1/1 [==============================] - 0s 437ms/step\n",
      "1/1 [==============================] - 0s 380ms/step\n",
      "2/3 [===================>..........] - ETA: 0s Tensor(\"binary_crossentropy/weighted_loss/value:0\", shape=(), dtype=float32)\n"
     ]
    },
    {
     "name": "stderr",
     "output_type": "stream",
     "text": [
      "\n",
      "KeyboardInterrupt\n",
      "\n"
     ]
    }
   ],
   "source": [
    "\n",
    "def train(data, EPOCHS):\n",
    "    # Loop through epochs\n",
    "    for epoch in range(1, EPOCHS+1):\n",
    "        print('\\n Epoch {}/{}'.format(epoch, EPOCHS))\n",
    "        progbar = tf.keras.utils.Progbar(len(data))\n",
    "        \n",
    "        # Creating a metric object \n",
    "        r = Recall()\n",
    "        p = Precision()\n",
    "        \n",
    "        # Loop through each batch\n",
    "        for idx, batch in enumerate(data):\n",
    "            # Run train step here\n",
    "            loss = train_step(batch)\n",
    "            yhat = siamese_model.predict(batch[:2])\n",
    "            r.update_state(batch[2], yhat)\n",
    "            p.update_state(batch[2], yhat) \n",
    "            progbar.update(idx+1)\n",
    "        print(loss.numpy(), r.result().numpy(), p.result().numpy())\n",
    "        \n",
    "        # Save checkpoints\n",
    "        if epoch % 10 == 0: \n",
    "            checkpoint.save(file_prefix=checkpoint_prefix)\n",
    "EPOCHS = 50\n",
    "train(train_data, EPOCHS)"
   ]
  },
  {
   "cell_type": "code",
   "execution_count": 43,
   "metadata": {},
   "outputs": [],
   "source": [
    "import tensorflow as tf\n",
    "tf.config.list_physical_devices('GPU')\n",
    "def train(data, EPOCHS):\n",
    "    train_losses = []\n",
    "    train_accuracies = []\n",
    "    train_precisions = []\n",
    "    train_recalls = []\n",
    "\n",
    "    for epoch in range(1, EPOCHS+1):\n",
    "        print('\\n Epoch {}/{}'.format(epoch, EPOCHS))\n",
    "        progbar = tf.keras.utils.Progbar(len(data))\n",
    "        \n",
    "        r = Recall()\n",
    "        p = Precision()\n",
    "        \n",
    "        for idx, batch in enumerate(data):\n",
    "            loss = train_step(batch)\n",
    "            yhat = siamese_model.predict(batch[:2])\n",
    "            r.update_state(batch[2], yhat)\n",
    "            p.update_state(batch[2], yhat) \n",
    "            progbar.update(idx+1)\n",
    "\n",
    "        train_losses.append(loss.numpy())\n",
    "        train_accuracies.append(r.result().numpy())\n",
    "        train_precisions.append(p.result().numpy())\n",
    "        train_recalls.append(r.result().numpy())\n",
    "\n",
    "        print(\"Loss: {:.4f}, Accuracy: {:.4f}, Precision: {:.4f}, Recall: {:.4f}\".format(\n",
    "            loss.numpy(), r.result().numpy(), p.result().numpy(), r.result().numpy()))\n",
    "\n",
    "        if epoch % 10 == 0:\n",
    "            checkpoint.save(file_prefix=checkpoint_prefix)\n",
    "\n",
    "    return train_losses, train_accuracies, train_precisions, train_recalls\n",
    "EPOCHS = 50"
   ]
  },
  {
   "cell_type": "code",
   "execution_count": 44,
   "metadata": {},
   "outputs": [
    {
     "name": "stdout",
     "output_type": "stream",
     "text": [
      "\n",
      " Epoch 1/50\n",
      "1/1 [==============================] - 1s 637ms/step\n",
      "1/1 [==============================] - 0s 406ms/step\n",
      "2/3 [===================>..........] - ETA: 0sTensor(\"binary_crossentropy/weighted_loss/value:0\", shape=(), dtype=float32)\n",
      "1/1 [==============================] - 0s 60ms/step\n",
      "3/3 [==============================] - 4s 2s/step\n",
      "Loss: 0.4569, Accuracy: 0.1111, Precision: 1.0000, Recall: 0.1111\n",
      "\n",
      " Epoch 2/50\n",
      "1/1 [==============================] - 0s 391ms/step\n",
      "1/1 [==============================] - 0s 422ms/step\n",
      "1/1 [==============================] - 0s 277ms/step\n",
      "3/3 [==============================] - 2s 570ms/step\n",
      "Loss: 0.4931, Accuracy: 0.1111, Precision: 1.0000, Recall: 0.1111\n",
      "\n",
      " Epoch 3/50\n",
      "1/1 [==============================] - 0s 381ms/step\n",
      "1/1 [==============================] - 0s 408ms/step\n",
      "1/1 [==============================] - 0s 283ms/step\n",
      "3/3 [==============================] - 2s 569ms/step\n",
      "Loss: 0.4444, Accuracy: 0.1765, Precision: 1.0000, Recall: 0.1765\n",
      "\n",
      " Epoch 4/50\n",
      "1/1 [==============================] - 0s 379ms/step\n",
      "1/1 [==============================] - 0s 402ms/step\n",
      "1/1 [==============================] - 0s 279ms/step\n",
      "3/3 [==============================] - 2s 568ms/step\n",
      "Loss: 0.1886, Accuracy: 0.3889, Precision: 1.0000, Recall: 0.3889\n",
      "\n",
      " Epoch 5/50\n",
      "1/1 [==============================] - 0s 361ms/step\n",
      "1/1 [==============================] - 0s 419ms/step\n",
      "1/1 [==============================] - 0s 279ms/step\n",
      "3/3 [==============================] - 2s 565ms/step\n",
      "Loss: 0.4015, Accuracy: 0.5556, Precision: 1.0000, Recall: 0.5556\n",
      "\n",
      " Epoch 6/50\n",
      "1/1 [==============================] - 0s 382ms/step\n",
      "1/1 [==============================] - 0s 415ms/step\n",
      "1/1 [==============================] - 0s 286ms/step\n",
      "3/3 [==============================] - 2s 563ms/step\n",
      "Loss: 0.1370, Accuracy: 0.6667, Precision: 1.0000, Recall: 0.6667\n",
      "\n",
      " Epoch 7/50\n",
      "1/1 [==============================] - 0s 399ms/step\n",
      "1/1 [==============================] - 0s 419ms/step\n",
      "1/1 [==============================] - 0s 251ms/step\n",
      "3/3 [==============================] - 2s 565ms/step\n",
      "Loss: 0.2439, Accuracy: 0.9000, Precision: 1.0000, Recall: 0.9000\n",
      "\n",
      " Epoch 8/50\n",
      "1/1 [==============================] - 0s 402ms/step\n",
      "1/1 [==============================] - 0s 406ms/step\n",
      "1/1 [==============================] - 0s 296ms/step\n",
      "3/3 [==============================] - 2s 569ms/step\n",
      "Loss: 0.1690, Accuracy: 1.0000, Precision: 1.0000, Recall: 1.0000\n",
      "\n",
      " Epoch 9/50\n",
      "1/1 [==============================] - 0s 396ms/step\n",
      "1/1 [==============================] - 0s 409ms/step\n",
      "1/1 [==============================] - 0s 289ms/step\n",
      "3/3 [==============================] - 2s 569ms/step\n",
      "Loss: 0.1931, Accuracy: 1.0000, Precision: 1.0000, Recall: 1.0000\n",
      "\n",
      " Epoch 10/50\n",
      "1/1 [==============================] - 0s 414ms/step\n",
      "1/1 [==============================] - 0s 393ms/step\n",
      "1/1 [==============================] - 0s 284ms/step\n",
      "3/3 [==============================] - 2s 567ms/step\n",
      "Loss: 0.1474, Accuracy: 1.0000, Precision: 1.0000, Recall: 1.0000\n",
      "\n",
      " Epoch 11/50\n",
      "1/1 [==============================] - 1s 581ms/step\n",
      "1/1 [==============================] - 0s 385ms/step\n",
      "1/1 [==============================] - 0s 272ms/step\n",
      "3/3 [==============================] - 2s 570ms/step\n",
      "Loss: 0.2275, Accuracy: 1.0000, Precision: 1.0000, Recall: 1.0000\n",
      "\n",
      " Epoch 12/50\n",
      "1/1 [==============================] - 0s 399ms/step\n",
      "1/1 [==============================] - 0s 398ms/step\n",
      "1/1 [==============================] - 0s 267ms/step\n",
      "3/3 [==============================] - 2s 572ms/step\n",
      "Loss: 0.0918, Accuracy: 1.0000, Precision: 1.0000, Recall: 1.0000\n",
      "\n",
      " Epoch 13/50\n",
      "1/1 [==============================] - 0s 389ms/step\n",
      "1/1 [==============================] - 0s 416ms/step\n",
      "1/1 [==============================] - 0s 265ms/step\n",
      "3/3 [==============================] - 2s 570ms/step\n",
      "Loss: 0.0504, Accuracy: 1.0000, Precision: 1.0000, Recall: 1.0000\n",
      "\n",
      " Epoch 14/50\n",
      "1/1 [==============================] - 0s 404ms/step\n",
      "1/1 [==============================] - 0s 395ms/step\n",
      "1/1 [==============================] - 0s 279ms/step\n",
      "3/3 [==============================] - 2s 572ms/step\n",
      "Loss: 0.1247, Accuracy: 1.0000, Precision: 1.0000, Recall: 1.0000\n",
      "\n",
      " Epoch 15/50\n",
      "1/1 [==============================] - 0s 403ms/step\n",
      "1/1 [==============================] - 0s 422ms/step\n",
      "1/1 [==============================] - 0s 260ms/step\n",
      "3/3 [==============================] - 2s 572ms/step\n",
      "Loss: 0.1315, Accuracy: 1.0000, Precision: 1.0000, Recall: 1.0000\n",
      "\n",
      " Epoch 16/50\n",
      "1/1 [==============================] - 0s 420ms/step\n",
      "1/1 [==============================] - 0s 414ms/step\n",
      "1/1 [==============================] - 0s 287ms/step\n",
      "3/3 [==============================] - 2s 573ms/step\n",
      "Loss: 0.0619, Accuracy: 1.0000, Precision: 1.0000, Recall: 1.0000\n",
      "\n",
      " Epoch 17/50\n",
      "1/1 [==============================] - 0s 389ms/step\n",
      "1/1 [==============================] - 0s 420ms/step\n",
      "1/1 [==============================] - 0s 304ms/step\n",
      "3/3 [==============================] - 2s 570ms/step\n",
      "Loss: 0.0331, Accuracy: 1.0000, Precision: 1.0000, Recall: 1.0000\n",
      "\n",
      " Epoch 18/50\n",
      "1/1 [==============================] - 0s 388ms/step\n",
      "1/1 [==============================] - 0s 402ms/step\n",
      "1/1 [==============================] - 0s 274ms/step\n",
      "3/3 [==============================] - 2s 571ms/step\n",
      "Loss: 0.0527, Accuracy: 1.0000, Precision: 1.0000, Recall: 1.0000\n",
      "\n",
      " Epoch 19/50\n",
      "1/1 [==============================] - 0s 406ms/step\n",
      "1/1 [==============================] - 0s 401ms/step\n",
      "1/1 [==============================] - 0s 285ms/step\n",
      "3/3 [==============================] - 2s 571ms/step\n",
      "Loss: 0.0215, Accuracy: 1.0000, Precision: 1.0000, Recall: 1.0000\n",
      "\n",
      " Epoch 20/50\n",
      "1/1 [==============================] - 0s 388ms/step\n",
      "1/1 [==============================] - 0s 418ms/step\n",
      "1/1 [==============================] - 0s 266ms/step\n",
      "3/3 [==============================] - 2s 575ms/step\n",
      "Loss: 0.0029, Accuracy: 1.0000, Precision: 1.0000, Recall: 1.0000\n",
      "\n",
      " Epoch 21/50\n",
      "1/1 [==============================] - 1s 566ms/step\n",
      "1/1 [==============================] - 0s 403ms/step\n",
      "1/1 [==============================] - 0s 287ms/step\n",
      "3/3 [==============================] - 2s 571ms/step\n",
      "Loss: 0.0087, Accuracy: 1.0000, Precision: 1.0000, Recall: 1.0000\n",
      "\n",
      " Epoch 22/50\n",
      "1/1 [==============================] - 0s 405ms/step\n",
      "1/1 [==============================] - 0s 435ms/step\n",
      "1/1 [==============================] - 0s 297ms/step\n",
      "3/3 [==============================] - 2s 573ms/step\n",
      "Loss: 0.0110, Accuracy: 1.0000, Precision: 1.0000, Recall: 1.0000\n",
      "\n",
      " Epoch 23/50\n",
      "1/1 [==============================] - 0s 397ms/step\n",
      "1/1 [==============================] - 0s 412ms/step\n",
      "1/1 [==============================] - 0s 257ms/step\n",
      "3/3 [==============================] - 2s 570ms/step\n",
      "Loss: 0.0077, Accuracy: 1.0000, Precision: 1.0000, Recall: 1.0000\n",
      "\n",
      " Epoch 24/50\n",
      "1/1 [==============================] - 0s 413ms/step\n",
      "1/1 [==============================] - 0s 417ms/step\n",
      "1/1 [==============================] - 0s 292ms/step\n",
      "3/3 [==============================] - 2s 574ms/step\n",
      "Loss: 0.0061, Accuracy: 1.0000, Precision: 1.0000, Recall: 1.0000\n",
      "\n",
      " Epoch 25/50\n",
      "1/1 [==============================] - 0s 411ms/step\n",
      "1/1 [==============================] - 0s 413ms/step\n",
      "1/1 [==============================] - 0s 303ms/step\n",
      "3/3 [==============================] - 2s 575ms/step\n",
      "Loss: 0.0090, Accuracy: 1.0000, Precision: 1.0000, Recall: 1.0000\n",
      "\n",
      " Epoch 26/50\n",
      "1/1 [==============================] - 0s 390ms/step\n",
      "1/1 [==============================] - 0s 434ms/step\n",
      "1/1 [==============================] - 0s 257ms/step\n",
      "3/3 [==============================] - 2s 575ms/step\n",
      "Loss: 0.0031, Accuracy: 1.0000, Precision: 1.0000, Recall: 1.0000\n",
      "\n",
      " Epoch 27/50\n",
      "1/1 [==============================] - 0s 413ms/step\n",
      "1/1 [==============================] - 0s 418ms/step\n",
      "1/1 [==============================] - 0s 291ms/step\n",
      "3/3 [==============================] - 2s 574ms/step\n",
      "Loss: 0.0046, Accuracy: 1.0000, Precision: 1.0000, Recall: 1.0000\n",
      "\n",
      " Epoch 28/50\n",
      "1/1 [==============================] - 0s 373ms/step\n",
      "1/1 [==============================] - 0s 413ms/step\n",
      "1/1 [==============================] - 0s 293ms/step\n",
      "3/3 [==============================] - 2s 573ms/step\n",
      "Loss: 0.0034, Accuracy: 1.0000, Precision: 1.0000, Recall: 1.0000\n",
      "\n",
      " Epoch 29/50\n",
      "1/1 [==============================] - 0s 386ms/step\n",
      "1/1 [==============================] - 0s 390ms/step\n",
      "1/1 [==============================] - 0s 277ms/step\n",
      "3/3 [==============================] - 2s 576ms/step\n",
      "Loss: 0.0021, Accuracy: 1.0000, Precision: 1.0000, Recall: 1.0000\n",
      "\n",
      " Epoch 30/50\n",
      "1/1 [==============================] - 0s 405ms/step\n",
      "1/1 [==============================] - 0s 420ms/step\n",
      "1/1 [==============================] - 0s 277ms/step\n",
      "3/3 [==============================] - 2s 574ms/step\n",
      "Loss: 0.0010, Accuracy: 1.0000, Precision: 1.0000, Recall: 1.0000\n",
      "\n",
      " Epoch 31/50\n",
      "1/1 [==============================] - 1s 639ms/step\n",
      "1/1 [==============================] - 0s 382ms/step\n",
      "1/1 [==============================] - 0s 275ms/step\n",
      "3/3 [==============================] - 2s 568ms/step\n",
      "Loss: 0.0005, Accuracy: 1.0000, Precision: 1.0000, Recall: 1.0000\n",
      "\n",
      " Epoch 32/50\n",
      "1/1 [==============================] - 0s 361ms/step\n",
      "1/1 [==============================] - 0s 371ms/step\n",
      "1/1 [==============================] - 0s 290ms/step\n",
      "3/3 [==============================] - 2s 574ms/step\n",
      "Loss: 0.0007, Accuracy: 1.0000, Precision: 1.0000, Recall: 1.0000\n",
      "\n",
      " Epoch 33/50\n",
      "1/1 [==============================] - 0s 397ms/step\n",
      "1/1 [==============================] - 0s 415ms/step\n",
      "1/1 [==============================] - 0s 261ms/step\n",
      "3/3 [==============================] - 2s 577ms/step\n",
      "Loss: 0.0006, Accuracy: 1.0000, Precision: 1.0000, Recall: 1.0000\n",
      "\n",
      " Epoch 34/50\n",
      "1/1 [==============================] - 0s 385ms/step\n",
      "1/1 [==============================] - 0s 404ms/step\n",
      "1/1 [==============================] - 0s 223ms/step\n",
      "3/3 [==============================] - 2s 581ms/step\n",
      "Loss: 0.0006, Accuracy: 1.0000, Precision: 1.0000, Recall: 1.0000\n",
      "\n",
      " Epoch 35/50\n",
      "1/1 [==============================] - 0s 364ms/step\n",
      "1/1 [==============================] - 0s 404ms/step\n",
      "1/1 [==============================] - 0s 259ms/step\n",
      "3/3 [==============================] - 2s 580ms/step\n",
      "Loss: 0.0015, Accuracy: 1.0000, Precision: 1.0000, Recall: 1.0000\n",
      "\n",
      " Epoch 36/50\n",
      "1/1 [==============================] - 0s 341ms/step\n",
      "1/1 [==============================] - 0s 381ms/step\n",
      "1/1 [==============================] - 0s 241ms/step\n",
      "3/3 [==============================] - 2s 596ms/step\n",
      "Loss: 0.0005, Accuracy: 1.0000, Precision: 1.0000, Recall: 1.0000\n",
      "\n",
      " Epoch 37/50\n",
      "1/1 [==============================] - 0s 325ms/step\n",
      "1/1 [==============================] - 0s 316ms/step\n",
      "1/1 [==============================] - 0s 239ms/step\n",
      "3/3 [==============================] - 2s 591ms/step\n",
      "Loss: 0.0002, Accuracy: 1.0000, Precision: 1.0000, Recall: 1.0000\n",
      "\n",
      " Epoch 38/50\n",
      "1/1 [==============================] - 0s 379ms/step\n",
      "1/1 [==============================] - 0s 395ms/step\n",
      "1/1 [==============================] - 0s 267ms/step\n",
      "3/3 [==============================] - 2s 575ms/step\n",
      "Loss: 0.0007, Accuracy: 1.0000, Precision: 1.0000, Recall: 1.0000\n",
      "\n",
      " Epoch 39/50\n",
      "1/1 [==============================] - 0s 391ms/step\n",
      "1/1 [==============================] - 0s 386ms/step\n",
      "1/1 [==============================] - 0s 292ms/step\n",
      "3/3 [==============================] - 2s 574ms/step\n",
      "Loss: 0.0004, Accuracy: 1.0000, Precision: 1.0000, Recall: 1.0000\n",
      "\n",
      " Epoch 40/50\n",
      "1/1 [==============================] - 0s 397ms/step\n",
      "1/1 [==============================] - 0s 413ms/step\n",
      "1/1 [==============================] - 0s 222ms/step\n",
      "3/3 [==============================] - 2s 605ms/step\n",
      "Loss: 0.0007, Accuracy: 1.0000, Precision: 1.0000, Recall: 1.0000\n",
      "\n",
      " Epoch 41/50\n",
      "1/1 [==============================] - 1s 600ms/step\n",
      "1/1 [==============================] - 0s 398ms/step\n",
      "1/1 [==============================] - 0s 276ms/step\n",
      "3/3 [==============================] - 2s 571ms/step\n",
      "Loss: 0.0007, Accuracy: 1.0000, Precision: 1.0000, Recall: 1.0000\n",
      "\n",
      " Epoch 42/50\n",
      "1/1 [==============================] - 0s 469ms/step\n",
      "1/1 [==============================] - 0s 495ms/step\n",
      "1/1 [==============================] - 0s 345ms/step\n",
      "3/3 [==============================] - 2s 679ms/step\n",
      "Loss: 0.0002, Accuracy: 1.0000, Precision: 1.0000, Recall: 1.0000\n",
      "\n",
      " Epoch 43/50\n",
      "1/1 [==============================] - 0s 408ms/step\n",
      "1/1 [==============================] - 0s 458ms/step\n",
      "1/1 [==============================] - 0s 340ms/step\n",
      "3/3 [==============================] - 2s 675ms/step\n",
      "Loss: 0.0001, Accuracy: 1.0000, Precision: 1.0000, Recall: 1.0000\n",
      "\n",
      " Epoch 44/50\n",
      "1/1 [==============================] - 0s 458ms/step\n",
      "1/1 [==============================] - 0s 487ms/step\n",
      "1/1 [==============================] - 0s 344ms/step\n",
      "3/3 [==============================] - 2s 668ms/step\n",
      "Loss: 0.0004, Accuracy: 1.0000, Precision: 1.0000, Recall: 1.0000\n",
      "\n",
      " Epoch 45/50\n",
      "1/1 [==============================] - 0s 464ms/step\n",
      "1/1 [==============================] - 0s 488ms/step\n",
      "1/1 [==============================] - 0s 331ms/step\n",
      "3/3 [==============================] - 2s 671ms/step\n",
      "Loss: 0.0002, Accuracy: 1.0000, Precision: 1.0000, Recall: 1.0000\n",
      "\n",
      " Epoch 46/50\n",
      "1/1 [==============================] - 0s 473ms/step\n",
      "1/1 [==============================] - 0s 496ms/step\n",
      "1/1 [==============================] - 0s 350ms/step\n",
      "3/3 [==============================] - 2s 669ms/step\n",
      "Loss: 0.0001, Accuracy: 1.0000, Precision: 1.0000, Recall: 1.0000\n",
      "\n",
      " Epoch 47/50\n",
      "1/1 [==============================] - 0s 472ms/step\n",
      "1/1 [==============================] - 0s 489ms/step\n",
      "1/1 [==============================] - 0s 365ms/step\n",
      "3/3 [==============================] - 2s 668ms/step\n",
      "Loss: 0.0003, Accuracy: 1.0000, Precision: 1.0000, Recall: 1.0000\n",
      "\n",
      " Epoch 48/50\n",
      "1/1 [==============================] - 0s 483ms/step\n",
      "1/1 [==============================] - 0s 471ms/step\n",
      "1/1 [==============================] - 0s 352ms/step\n",
      "3/3 [==============================] - 2s 664ms/step\n",
      "Loss: 0.0001, Accuracy: 1.0000, Precision: 1.0000, Recall: 1.0000\n",
      "\n",
      " Epoch 49/50\n",
      "1/1 [==============================] - 0s 466ms/step\n",
      "1/1 [==============================] - 1s 507ms/step\n",
      "1/1 [==============================] - 0s 345ms/step\n",
      "3/3 [==============================] - 2s 667ms/step\n",
      "Loss: 0.0002, Accuracy: 1.0000, Precision: 1.0000, Recall: 1.0000\n",
      "\n",
      " Epoch 50/50\n",
      "1/1 [==============================] - 0s 490ms/step\n",
      "1/1 [==============================] - 0s 485ms/step\n",
      "1/1 [==============================] - 0s 362ms/step\n",
      "3/3 [==============================] - 2s 671ms/step\n",
      "Loss: 0.0004, Accuracy: 1.0000, Precision: 1.0000, Recall: 1.0000\n"
     ]
    }
   ],
   "source": [
    "train_losses, train_accuracies, train_precisions, train_recalls = train(train_data, EPOCHS)"
   ]
  },
  {
   "cell_type": "markdown",
   "metadata": {
    "tags": []
   },
   "source": [
    "# 6. Evaluate Model"
   ]
  },
  {
   "cell_type": "code",
   "execution_count": 45,
   "metadata": {},
   "outputs": [
    {
     "data": {
      "image/png": "[encoded data removed]",
      "text/plain": [
       "<Figure size 1200x400 with 3 Axes>"
      ]
     },
     "metadata": {},
     "output_type": "display_data"
    }
   ],
   "source": [
    "epochs_range = range(1, EPOCHS+1)\n",
    "\n",
    "plt.figure(figsize=(12, 4))\n",
    "\n",
    "plt.subplot(1, 3, 1)\n",
    "plt.plot(epochs_range, train_losses, label='Training Loss')\n",
    "plt.xlabel('Epochs')\n",
    "plt.ylabel('Loss')\n",
    "plt.legend()\n",
    "\n",
    "plt.subplot(1, 3, 2)\n",
    "plt.plot(epochs_range, train_accuracies, label='Training Accuracy')\n",
    "plt.xlabel('Epochs')\n",
    "plt.ylabel('Accuracy')\n",
    "plt.legend()\n",
    "\n",
    "plt.subplot(1, 3, 3)\n",
    "plt.plot(epochs_range, train_precisions, label='Training Precision')\n",
    "plt.plot(epochs_range, train_recalls, label='Training Recall')\n",
    "plt.xlabel('Epochs')\n",
    "plt.ylabel('Precision/Recall')\n",
    "plt.legend()\n",
    "\n",
    "plt.tight_layout()\n",
    "plt.show()"
   ]
  },
  {
   "cell_type": "code",
   "execution_count": 46,
   "metadata": {},
   "outputs": [
    {
     "name": "stdout",
     "output_type": "stream",
     "text": [
      "Requirement already satisfied: scikit-learn in c:\\users\\haldies\\anaconda3\\envs\\tessss\\lib\\site-packages (1.3.2)\n",
      "Requirement already satisfied: numpy<2.0,>=1.17.3 in c:\\users\\haldies\\anaconda3\\envs\\tessss\\lib\\site-packages (from scikit-learn) (1.26.3)\n",
      "Requirement already satisfied: scipy>=1.5.0 in c:\\users\\haldies\\anaconda3\\envs\\tessss\\lib\\site-packages (from scikit-learn) (1.11.4)\n",
      "Requirement already satisfied: joblib>=1.1.1 in c:\\users\\haldies\\anaconda3\\envs\\tessss\\lib\\site-packages (from scikit-learn) (1.3.2)\n",
      "Requirement already satisfied: threadpoolctl>=2.0.0 in c:\\users\\haldies\\anaconda3\\envs\\tessss\\lib\\site-packages (from scikit-learn) (3.2.0)\n"
     ]
    }
   ],
   "source": [
    "#!pip install scikit-learn\n",
    "\n",
    "from sklearn.metrics import accuracy_score, precision_score, recall_score\n",
    "\n",
    "def evaluate(data):\n",
    "    y_true = []\n",
    "    y_pred = []\n",
    "\n",
    "    for batch in data:\n",
    "        X = batch[:2]\n",
    "        labels = batch[2]\n",
    "\n",
    "        predictions = siamese_model.predict(X)\n",
    "        binary_predictions = [1 if pred > 0.5 else 0 for pred in predictions]\n",
    "\n",
    "        y_true.extend(labels.numpy())\n",
    "        y_pred.extend(binary_predictions)\n",
    "\n",
    "    accuracy = accuracy_score(y_true, y_pred)\n",
    "    precision = precision_score(y_true, y_pred)\n",
    "    recall = recall_score(y_true, y_pred)\n",
    "\n",
    "    return accuracy, precision, recall\n"
   ]
  },
  {
   "cell_type": "code",
   "execution_count": 47,
   "metadata": {},
   "outputs": [
    {
     "name": "stdout",
     "output_type": "stream",
     "text": [
      "1/1 [==============================] - 0s 73ms/step\n",
      "1/1 [==============================] - 0s 329ms/step\n",
      "Test Accuracy: 100.00%\n",
      "Test Precision: 100.00%\n",
      "Test Recall: 100.00%\n"
     ]
    }
   ],
   "source": [
    "accuracy, precision, recall = evaluate(test_data)\n",
    "\n",
    "print(\"Test Accuracy: {:.2%}\".format(accuracy))\n",
    "print(\"Test Precision: {:.2%}\".format(precision))\n",
    "print(\"Test Recall: {:.2%}\".format(recall))"
   ]
  },
  {
   "cell_type": "code",
   "execution_count": 48,
   "metadata": {},
   "outputs": [
    {
     "name": "stdout",
     "output_type": "stream",
     "text": [
      "1/1 [==============================] - 0s 68ms/step\n",
      "1/1 [==============================] - 0s 63ms/step\n"
     ]
    },
    {
     "data": {
      "image/png": "[encoded data removed]",
      "text/plain": [
       "<Figure size 640x480 with 1 Axes>"
      ]
     },
     "metadata": {},
     "output_type": "display_data"
    }
   ],
   "source": [
    "import matplotlib.pyplot as plt\n",
    "\n",
    "def plot_evaluation_metrics(accuracy, precision, recall):\n",
    "    labels = ['Accuracy', 'Precision', 'Recall']\n",
    "    values = [accuracy, precision, recall]\n",
    "\n",
    "    plt.bar(labels, values, color=['blue', 'green', 'orange'])\n",
    "    plt.ylim(0, 1)  # Skala y-axis dari 0 hingga 1\n",
    "    plt.title('Model Evaluation Metrics')\n",
    "    plt.show()\n",
    "\n",
    "# Anda perlu memanggil fungsi plot_evaluation_metrics dengan hasil evaluasi Anda\n",
    "accuracy, precision, recall = evaluate(test_data)\n",
    "plot_evaluation_metrics(accuracy, precision, recall)\n"
   ]
  },
  {
   "cell_type": "markdown",
   "metadata": {},
   "source": [
    "## 6.1 Import Metrics"
   ]
  },
  {
   "cell_type": "markdown",
   "metadata": {},
   "source": [
    "## 6.2 Make Predictions"
   ]
  },
  {
   "cell_type": "code",
   "execution_count": 49,
   "metadata": {},
   "outputs": [
    {
     "name": "stdout",
     "output_type": "stream",
     "text": [
      "1/1 [==============================] - 0s 63ms/step\n"
     ]
    },
    {
     "data": {
      "text/plain": [
       "array([[5.4089585e-05],\n",
       "       [3.9410202e-06],\n",
       "       [3.7161936e-04],\n",
       "       [9.9955457e-01],\n",
       "       [9.9988246e-01],\n",
       "       [9.9949002e-01],\n",
       "       [9.9896896e-01],\n",
       "       [2.1744047e-05],\n",
       "       [9.2958966e-05],\n",
       "       [2.5258181e-05],\n",
       "       [5.7824536e-07],\n",
       "       [6.1696278e-06],\n",
       "       [2.7881128e-05],\n",
       "       [2.5376969e-04],\n",
       "       [9.9981385e-01],\n",
       "       [6.4109563e-06]], dtype=float32)"
      ]
     },
     "execution_count": 49,
     "metadata": {},
     "output_type": "execute_result"
    }
   ],
   "source": [
    "# Get a batch of test data\n",
    "test_input, test_val, y_true = test_data.as_numpy_iterator().next()\n",
    "# Make predictions\n",
    "y_hat = siamese_model.predict([test_input, test_val])\n",
    "y_hat"
   ]
  },
  {
   "cell_type": "code",
   "execution_count": 50,
   "metadata": {
    "tags": []
   },
   "outputs": [
    {
     "data": {
      "text/plain": [
       "[0, 0, 0, 1, 1, 1, 1, 0, 0, 0, 0, 0, 0, 0, 1, 0]"
      ]
     },
     "execution_count": 50,
     "metadata": {},
     "output_type": "execute_result"
    }
   ],
   "source": [
    "# Post processing the results \n",
    "[1 if prediction > 0.5 else 0 for prediction in y_hat ]"
   ]
  },
  {
   "cell_type": "code",
   "execution_count": 51,
   "metadata": {
    "tags": []
   },
   "outputs": [
    {
     "data": {
      "text/plain": [
       "array([0., 0., 0., 1., 1., 1., 1., 0., 0., 0., 0., 0., 0., 0., 1., 0.],\n",
       "      dtype=float32)"
      ]
     },
     "execution_count": 51,
     "metadata": {},
     "output_type": "execute_result"
    }
   ],
   "source": [
    "y_true"
   ]
  },
  {
   "cell_type": "code",
   "execution_count": null,
   "metadata": {
    "tags": []
   },
   "outputs": [],
   "source": []
  },
  {
   "cell_type": "markdown",
   "metadata": {},
   "source": [
    "## 6.3 Calculate Metrics"
   ]
  },
  {
   "cell_type": "code",
   "execution_count": 52,
   "metadata": {},
   "outputs": [
    {
     "data": {
      "text/plain": [
       "1.0"
      ]
     },
     "execution_count": 52,
     "metadata": {},
     "output_type": "execute_result"
    }
   ],
   "source": [
    "m = Recall()\n",
    "\n",
    "# Calculating the recall value \n",
    "m.update_state(y_true, y_hat)\n",
    "\n",
    "# Return Recall Result\n",
    "m.result().numpy()"
   ]
  },
  {
   "cell_type": "code",
   "execution_count": 53,
   "metadata": {},
   "outputs": [
    {
     "data": {
      "text/plain": [
       "1.0"
      ]
     },
     "execution_count": 53,
     "metadata": {},
     "output_type": "execute_result"
    }
   ],
   "source": [
    "m = Precision()\n",
    "\n",
    "# Calculating the recall value \n",
    "m.update_state(y_true, y_hat)\n",
    "\n",
    "# Return Recall Result\n",
    "m.result().numpy()"
   ]
  },
  {
   "cell_type": "code",
   "execution_count": 54,
   "metadata": {},
   "outputs": [
    {
     "name": "stdout",
     "output_type": "stream",
     "text": [
      "1/1 [==============================] - 0s 68ms/step\n",
      "1/1 [==============================] - 0s 58ms/step\n",
      "1.0 1.0\n"
     ]
    }
   ],
   "source": [
    "r = Recall()\n",
    "p = Precision()\n",
    "\n",
    "for test_input, test_val, y_true in test_data.as_numpy_iterator():\n",
    "    yhat = siamese_model.predict([test_input, test_val])\n",
    "    r.update_state(y_true, yhat)\n",
    "    p.update_state(y_true,yhat) \n",
    "\n",
    "print(r.result().numpy(), p.result().numpy())"
   ]
  },
  {
   "cell_type": "markdown",
   "metadata": {},
   "source": [
    "## 6.4 Viz Results"
   ]
  },
  {
   "cell_type": "code",
   "execution_count": 57,
   "metadata": {},
   "outputs": [
    {
     "data": {
      "image/png": "[encoded data removed]",
      "text/plain": [
       "<Figure size 1000x800 with 2 Axes>"
      ]
     },
     "metadata": {},
     "output_type": "display_data"
    }
   ],
   "source": [
    "# Set plot size \n",
    "plt.figure(figsize=(10,8))\n",
    "\n",
    "# Set first subplot\n",
    "plt.subplot(1,2,1)\n",
    "plt.imshow(test_input[1])\n",
    "\n",
    "# Set second subplot\n",
    "plt.subplot(1,2,2)\n",
    "plt.imshow(test_val[1])\n",
    "\n",
    "# Renders cleanly\n",
    "plt.show()"
   ]
  },
  {
   "cell_type": "markdown",
   "metadata": {},
   "source": [
    "# 7. Save Model"
   ]
  },
  {
   "cell_type": "code",
   "execution_count": 58,
   "metadata": {},
   "outputs": [
    {
     "name": "stdout",
     "output_type": "stream",
     "text": [
      "WARNING:tensorflow:Compiled the loaded model, but the compiled metrics have yet to be built. `model.compile_metrics` will be empty until you train or evaluate the model.\n"
     ]
    }
   ],
   "source": [
    "# Save weights\n",
    "siamese_model.save('siamesemodel.h5')"
   ]
  },
  {
   "cell_type": "code",
   "execution_count": 59,
   "metadata": {},
   "outputs": [
    {
     "data": {
      "text/plain": [
       "__main__.L1Dist"
      ]
     },
     "execution_count": 59,
     "metadata": {},
     "output_type": "execute_result"
    }
   ],
   "source": [
    "L1Dist"
   ]
  },
  {
   "cell_type": "code",
   "execution_count": 60,
   "metadata": {},
   "outputs": [
    {
     "name": "stdout",
     "output_type": "stream",
     "text": [
      "WARNING:tensorflow:No training configuration found in the save file, so the model was *not* compiled. Compile it manually.\n",
      "1/1 [==============================] - 0s 349ms/step\n"
     ]
    },
    {
     "data": {
      "text/plain": [
       "array([[1.9753654e-06],\n",
       "       [9.9999404e-01],\n",
       "       [9.9896920e-01]], dtype=float32)"
      ]
     },
     "execution_count": 60,
     "metadata": {},
     "output_type": "execute_result"
    }
   ],
   "source": [
    "# Reload model \n",
    "model = tf.keras.models.load_model('siamesemodel.h5', \n",
    "                                   custom_objects={'L1Dist':L1Dist, 'BinaryCrossentropy':tf.losses.BinaryCrossentropy})\n",
    "\n",
    "model.predict([test_input, test_val])"
   ]
  },
  {
   "cell_type": "code",
   "execution_count": 61,
   "metadata": {},
   "outputs": [
    {
     "name": "stdout",
     "output_type": "stream",
     "text": [
      "Model: \"SiameseNetwork\"\n",
      "__________________________________________________________________________________________________\n",
      " Layer (type)                   Output Shape         Param #     Connected to                     \n",
      "==================================================================================================\n",
      " input_img (InputLayer)         [(None, 100, 100, 3  0           []                               \n",
      "                                )]                                                                \n",
      "                                                                                                  \n",
      " validation_img (InputLayer)    [(None, 100, 100, 3  0           []                               \n",
      "                                )]                                                                \n",
      "                                                                                                  \n",
      " embedding (Functional)         (None, 4096)         38960448    ['input_img[0][0]',              \n",
      "                                                                  'validation_img[0][0]']         \n",
      "                                                                                                  \n",
      " distance (L1Dist)              (None, 4096)         0           ['embedding[4][0]',              \n",
      "                                                                  'embedding[5][0]']              \n",
      "                                                                                                  \n",
      " dense_4 (Dense)                (None, 1)            4097        ['distance[0][0]']               \n",
      "                                                                                                  \n",
      "==================================================================================================\n",
      "Total params: 38,964,545\n",
      "Trainable params: 38,964,545\n",
      "Non-trainable params: 0\n",
      "__________________________________________________________________________________________________\n"
     ]
    }
   ],
   "source": [
    "siamese_model.summary()"
   ]
  },
  {
   "cell_type": "markdown",
   "metadata": {},
   "source": [
    "# 8. Real Time Test"
   ]
  },
  {
   "cell_type": "code",
   "execution_count": 62,
   "metadata": {},
   "outputs": [],
   "source": [
    "import os"
   ]
  },
  {
   "cell_type": "code",
   "execution_count": 63,
   "metadata": {},
   "outputs": [
    {
     "data": {
      "text/plain": [
       "['26718183-afdd-11ee-9c33-ec2e98efdbd6.jpg',\n",
       " '282b7902-afdd-11ee-aa96-ec2e98efdbd6.jpg',\n",
       " '2907330d-afdd-11ee-8098-ec2e98efdbd6.jpg',\n",
       " '363779a5-afdd-11ee-8009-ec2e98efdbd6.jpg',\n",
       " '36f10c1d-afdd-11ee-b18c-ec2e98efdbd6.jpg',\n",
       " '370b3794-afdd-11ee-84aa-ec2e98efdbd6.jpg',\n",
       " '376f4379-afdd-11ee-93c9-ec2e98efdbd6.jpg',\n",
       " '378b99a5-afdd-11ee-9356-ec2e98efdbd6.jpg',\n",
       " '37a88763-afdd-11ee-a129-ec2e98efdbd6.jpg',\n",
       " '38331fac-afdd-11ee-b4c2-ec2e98efdbd6.jpg',\n",
       " '3879497f-afdd-11ee-82ba-ec2e98efdbd6.jpg',\n",
       " '39853a30-afdd-11ee-af11-ec2e98efdbd6.jpg',\n",
       " '3a43ad02-afdd-11ee-8b12-ec2e98efdbd6.jpg',\n",
       " '3a659e71-afdd-11ee-9dd2-ec2e98efdbd6.jpg',\n",
       " '3a86d308-afdd-11ee-a396-ec2e98efdbd6.jpg',\n",
       " '3aa804de-afdd-11ee-b5d8-ec2e98efdbd6.jpg',\n",
       " '3ae6370a-afdd-11ee-bcfc-ec2e98efdbd6.jpg',\n",
       " '3b07fada-afdd-11ee-a997-ec2e98efdbd6.jpg',\n",
       " '3b26f058-afdd-11ee-9533-ec2e98efdbd6.jpg',\n",
       " '3bc95d78-afdd-11ee-aee9-ec2e98efdbd6.jpg',\n",
       " '3c51830d-afdd-11ee-b312-ec2e98efdbd6.jpg',\n",
       " '9a342a9a-afdd-11ee-aa51-ec2e98efdbd6.jpg',\n",
       " '9adf7be3-afdd-11ee-89f7-ec2e98efdbd6.jpg',\n",
       " '9bdc41f2-afdd-11ee-852f-ec2e98efdbd6.jpg',\n",
       " '9c211da4-afdd-11ee-b476-ec2e98efdbd6.jpg',\n",
       " '9ca0b0b5-afdd-11ee-bc5b-ec2e98efdbd6.jpg',\n",
       " '9cc4cc97-afdd-11ee-b2fc-ec2e98efdbd6.jpg',\n",
       " '9d4598e4-afdd-11ee-a460-ec2e98efdbd6.jpg',\n",
       " '9d8b5323-afdd-11ee-a884-ec2e98efdbd6.jpg',\n",
       " '9ddcebbd-afdd-11ee-a21f-ec2e98efdbd6.jpg',\n",
       " '9e4c57d2-afdd-11ee-8e30-ec2e98efdbd6.jpg',\n",
       " '9e782d75-afdd-11ee-b522-ec2e98efdbd6.jpg',\n",
       " '9ebca9c4-afdd-11ee-9d6d-ec2e98efdbd6.jpg',\n",
       " '9edaa186-afdd-11ee-be44-ec2e98efdbd6.jpg',\n",
       " '9f0008a6-afdd-11ee-8ce4-ec2e98efdbd6.jpg',\n",
       " 'a0437665-afdd-11ee-a5b4-ec2e98efdbd6.jpg',\n",
       " 'a0d41e89-afdd-11ee-8cbb-ec2e98efdbd6.jpg',\n",
       " 'a207ce4f-afdd-11ee-8fc5-ec2e98efdbd6.jpg',\n",
       " 'a27459df-afdd-11ee-bcce-ec2e98efdbd6.jpg',\n",
       " 'a297b7d1-afdd-11ee-8ad4-ec2e98efdbd6.jpg',\n",
       " 'a2b90f48-afdd-11ee-8649-ec2e98efdbd6.jpg',\n",
       " 'a3045154-afdd-11ee-a7ea-ec2e98efdbd6.jpg',\n",
       " 'a38930e5-afdd-11ee-924c-ec2e98efdbd6.jpg',\n",
       " 'a4092ac1-afdd-11ee-9125-ec2e98efdbd6.jpg',\n",
       " 'a47bd552-afdd-11ee-b774-ec2e98efdbd6.jpg',\n",
       " 'a480f2d5-afdd-11ee-bf52-ec2e98efdbd6.jpg',\n",
       " 'a48a47d9-afdd-11ee-aba1-ec2e98efdbd6.jpg',\n",
       " 'a4af8ffc-afdd-11ee-a4bc-ec2e98efdbd6.jpg',\n",
       " 'a4f4c74c-afdd-11ee-8885-ec2e98efdbd6.jpg',\n",
       " 'a6da196b-afdd-11ee-bffb-ec2e98efdbd6.jpg',\n",
       " 'a7ecd66b-afdd-11ee-b223-ec2e98efdbd6.jpg',\n",
       " 'a842f542-afdd-11ee-97f4-ec2e98efdbd6.jpg',\n",
       " 'a8af3912-afdd-11ee-bd8d-ec2e98efdbd6.jpg',\n",
       " 'a8fa6ae4-afdd-11ee-8741-ec2e98efdbd6.jpg',\n",
       " 'a9442f92-afdd-11ee-82e6-ec2e98efdbd6.jpg',\n",
       " 'afe950cb-afdd-11ee-9fe4-ec2e98efdbd6.jpg',\n",
       " 'b17befb0-afdd-11ee-9a80-ec2e98efdbd6.jpg',\n",
       " 'b23a0147-afdd-11ee-a4ac-ec2e98efdbd6.jpg',\n",
       " 'b2998211-afdd-11ee-a737-ec2e98efdbd6.jpg',\n",
       " 'b3785132-afdd-11ee-8844-ec2e98efdbd6.jpg',\n",
       " 'b3b698be-afdd-11ee-af17-ec2e98efdbd6.jpg',\n",
       " 'b5b33f0a-afdd-11ee-bf95-ec2e98efdbd6.jpg',\n",
       " 'b5efcc3b-afdd-11ee-9e6b-ec2e98efdbd6.jpg']"
      ]
     },
     "execution_count": 63,
     "metadata": {},
     "output_type": "execute_result"
    }
   ],
   "source": [
    "os.listdir(os.path.join('application_data', 'verification_images'))"
   ]
  },
  {
   "cell_type": "code",
   "execution_count": 64,
   "metadata": {},
   "outputs": [
    {
     "data": {
      "text/plain": [
       "'application_data\\\\input_image\\\\input_image.jpg'"
      ]
     },
     "execution_count": 64,
     "metadata": {},
     "output_type": "execute_result"
    }
   ],
   "source": [
    "os.path.join('application_data', 'input_image', 'input_image.jpg')"
   ]
  },
  {
   "cell_type": "markdown",
   "metadata": {},
   "source": [
    "## 8.1 Verification Function"
   ]
  },
  {
   "cell_type": "code",
   "execution_count": 65,
   "metadata": {},
   "outputs": [
    {
     "name": "stdout",
     "output_type": "stream",
     "text": [
      "application_data\\verification_images\\26718183-afdd-11ee-9c33-ec2e98efdbd6.jpg\n",
      "application_data\\verification_images\\282b7902-afdd-11ee-aa96-ec2e98efdbd6.jpg\n",
      "application_data\\verification_images\\2907330d-afdd-11ee-8098-ec2e98efdbd6.jpg\n",
      "application_data\\verification_images\\363779a5-afdd-11ee-8009-ec2e98efdbd6.jpg\n",
      "application_data\\verification_images\\36f10c1d-afdd-11ee-b18c-ec2e98efdbd6.jpg\n",
      "application_data\\verification_images\\370b3794-afdd-11ee-84aa-ec2e98efdbd6.jpg\n",
      "application_data\\verification_images\\376f4379-afdd-11ee-93c9-ec2e98efdbd6.jpg\n",
      "application_data\\verification_images\\378b99a5-afdd-11ee-9356-ec2e98efdbd6.jpg\n",
      "application_data\\verification_images\\37a88763-afdd-11ee-a129-ec2e98efdbd6.jpg\n",
      "application_data\\verification_images\\38331fac-afdd-11ee-b4c2-ec2e98efdbd6.jpg\n",
      "application_data\\verification_images\\3879497f-afdd-11ee-82ba-ec2e98efdbd6.jpg\n",
      "application_data\\verification_images\\39853a30-afdd-11ee-af11-ec2e98efdbd6.jpg\n",
      "application_data\\verification_images\\3a43ad02-afdd-11ee-8b12-ec2e98efdbd6.jpg\n",
      "application_data\\verification_images\\3a659e71-afdd-11ee-9dd2-ec2e98efdbd6.jpg\n",
      "application_data\\verification_images\\3a86d308-afdd-11ee-a396-ec2e98efdbd6.jpg\n",
      "application_data\\verification_images\\3aa804de-afdd-11ee-b5d8-ec2e98efdbd6.jpg\n",
      "application_data\\verification_images\\3ae6370a-afdd-11ee-bcfc-ec2e98efdbd6.jpg\n",
      "application_data\\verification_images\\3b07fada-afdd-11ee-a997-ec2e98efdbd6.jpg\n",
      "application_data\\verification_images\\3b26f058-afdd-11ee-9533-ec2e98efdbd6.jpg\n",
      "application_data\\verification_images\\3bc95d78-afdd-11ee-aee9-ec2e98efdbd6.jpg\n",
      "application_data\\verification_images\\3c51830d-afdd-11ee-b312-ec2e98efdbd6.jpg\n",
      "application_data\\verification_images\\9a342a9a-afdd-11ee-aa51-ec2e98efdbd6.jpg\n",
      "application_data\\verification_images\\9adf7be3-afdd-11ee-89f7-ec2e98efdbd6.jpg\n",
      "application_data\\verification_images\\9bdc41f2-afdd-11ee-852f-ec2e98efdbd6.jpg\n",
      "application_data\\verification_images\\9c211da4-afdd-11ee-b476-ec2e98efdbd6.jpg\n",
      "application_data\\verification_images\\9ca0b0b5-afdd-11ee-bc5b-ec2e98efdbd6.jpg\n",
      "application_data\\verification_images\\9cc4cc97-afdd-11ee-b2fc-ec2e98efdbd6.jpg\n",
      "application_data\\verification_images\\9d4598e4-afdd-11ee-a460-ec2e98efdbd6.jpg\n",
      "application_data\\verification_images\\9d8b5323-afdd-11ee-a884-ec2e98efdbd6.jpg\n",
      "application_data\\verification_images\\9ddcebbd-afdd-11ee-a21f-ec2e98efdbd6.jpg\n",
      "application_data\\verification_images\\9e4c57d2-afdd-11ee-8e30-ec2e98efdbd6.jpg\n",
      "application_data\\verification_images\\9e782d75-afdd-11ee-b522-ec2e98efdbd6.jpg\n",
      "application_data\\verification_images\\9ebca9c4-afdd-11ee-9d6d-ec2e98efdbd6.jpg\n",
      "application_data\\verification_images\\9edaa186-afdd-11ee-be44-ec2e98efdbd6.jpg\n",
      "application_data\\verification_images\\9f0008a6-afdd-11ee-8ce4-ec2e98efdbd6.jpg\n",
      "application_data\\verification_images\\a0437665-afdd-11ee-a5b4-ec2e98efdbd6.jpg\n",
      "application_data\\verification_images\\a0d41e89-afdd-11ee-8cbb-ec2e98efdbd6.jpg\n",
      "application_data\\verification_images\\a207ce4f-afdd-11ee-8fc5-ec2e98efdbd6.jpg\n",
      "application_data\\verification_images\\a27459df-afdd-11ee-bcce-ec2e98efdbd6.jpg\n",
      "application_data\\verification_images\\a297b7d1-afdd-11ee-8ad4-ec2e98efdbd6.jpg\n",
      "application_data\\verification_images\\a2b90f48-afdd-11ee-8649-ec2e98efdbd6.jpg\n",
      "application_data\\verification_images\\a3045154-afdd-11ee-a7ea-ec2e98efdbd6.jpg\n",
      "application_data\\verification_images\\a38930e5-afdd-11ee-924c-ec2e98efdbd6.jpg\n",
      "application_data\\verification_images\\a4092ac1-afdd-11ee-9125-ec2e98efdbd6.jpg\n",
      "application_data\\verification_images\\a47bd552-afdd-11ee-b774-ec2e98efdbd6.jpg\n",
      "application_data\\verification_images\\a480f2d5-afdd-11ee-bf52-ec2e98efdbd6.jpg\n",
      "application_data\\verification_images\\a48a47d9-afdd-11ee-aba1-ec2e98efdbd6.jpg\n",
      "application_data\\verification_images\\a4af8ffc-afdd-11ee-a4bc-ec2e98efdbd6.jpg\n",
      "application_data\\verification_images\\a4f4c74c-afdd-11ee-8885-ec2e98efdbd6.jpg\n",
      "application_data\\verification_images\\a6da196b-afdd-11ee-bffb-ec2e98efdbd6.jpg\n",
      "application_data\\verification_images\\a7ecd66b-afdd-11ee-b223-ec2e98efdbd6.jpg\n",
      "application_data\\verification_images\\a842f542-afdd-11ee-97f4-ec2e98efdbd6.jpg\n",
      "application_data\\verification_images\\a8af3912-afdd-11ee-bd8d-ec2e98efdbd6.jpg\n",
      "application_data\\verification_images\\a8fa6ae4-afdd-11ee-8741-ec2e98efdbd6.jpg\n",
      "application_data\\verification_images\\a9442f92-afdd-11ee-82e6-ec2e98efdbd6.jpg\n",
      "application_data\\verification_images\\afe950cb-afdd-11ee-9fe4-ec2e98efdbd6.jpg\n",
      "application_data\\verification_images\\b17befb0-afdd-11ee-9a80-ec2e98efdbd6.jpg\n",
      "application_data\\verification_images\\b23a0147-afdd-11ee-a4ac-ec2e98efdbd6.jpg\n",
      "application_data\\verification_images\\b2998211-afdd-11ee-a737-ec2e98efdbd6.jpg\n",
      "application_data\\verification_images\\b3785132-afdd-11ee-8844-ec2e98efdbd6.jpg\n",
      "application_data\\verification_images\\b3b698be-afdd-11ee-af17-ec2e98efdbd6.jpg\n",
      "application_data\\verification_images\\b5b33f0a-afdd-11ee-bf95-ec2e98efdbd6.jpg\n",
      "application_data\\verification_images\\b5efcc3b-afdd-11ee-9e6b-ec2e98efdbd6.jpg\n"
     ]
    }
   ],
   "source": [
    "for image in os.listdir(os.path.join('application_data', 'verification_images')):\n",
    "    validation_img = os.path.join('application_data', 'verification_images', image)\n",
    "    print(validation_img)"
   ]
  },
  {
   "cell_type": "code",
   "execution_count": null,
   "metadata": {},
   "outputs": [],
   "source": []
  },
  {
   "cell_type": "markdown",
   "metadata": {},
   "source": [
    "## 8.2 OpenCV Real Time Verification"
   ]
  },
  {
   "cell_type": "code",
   "execution_count": 66,
   "metadata": {},
   "outputs": [],
   "source": [
    "import cv2\n",
    "import os\n",
    "from tensorflow.keras.models import Model\n",
    "from tensorflow.keras.layers import Input, Dense\n",
    "\n",
    "def verify( model, detection_threshold, verification_threshold):\n",
    "    # Build results array\n",
    "    results = []\n",
    "    for image in os.listdir(os.path.join('application_data', 'verification_images')):\n",
    "        input_img = preprocess(os.path.join('application_data', 'input_image', 'input_image.jpg'))\n",
    "        validation_img = preprocess(os.path.join('application_data', 'verification_images', image))\n",
    "        \n",
    "        # Make Predictions \n",
    "        result = model.predict(list(np.expand_dims([input_img, validation_img], axis=1)))\n",
    "        results.append(result)\n",
    "    \n",
    "    # Detection Threshold: Metric above which a prediciton is considered positive \n",
    "    detection = np.sum(np.array(results) > detection_threshold)\n",
    "    \n",
    "    # Verification Threshold: Proportion of positive predictions / total positive samples \n",
    "    verification = detection / len(os.listdir(os.path.join('application_data', 'verification_images'))) \n",
    "    verified = verification > verification_threshold\n",
    "    \n",
    "    return results, verified"
   ]
  },
  {
   "cell_type": "code",
   "execution_count": 67,
   "metadata": {},
   "outputs": [
    {
     "ename": "error",
     "evalue": "OpenCV(4.9.0) D:\\a\\opencv-python\\opencv-python\\opencv\\modules\\highgui\\src\\window.cpp:971: error: (-215:Assertion failed) size.width>0 && size.height>0 in function 'cv::imshow'\n",
     "output_type": "error",
     "traceback": [
      "\u001b[1;31m---------------------------------------------------------------------------\u001b[0m",
      "\u001b[1;31merror\u001b[0m                                     Traceback (most recent call last)",
      "Cell \u001b[1;32mIn[67], line 2\u001b[0m\n\u001b[0;32m      1\u001b[0m cap \u001b[38;5;241m=\u001b[39m cv2\u001b[38;5;241m.\u001b[39mVideoCapture(\u001b[38;5;241m0\u001b[39m)\n\u001b[1;32m----> 2\u001b[0m \u001b[43mcv2\u001b[49m\u001b[38;5;241;43m.\u001b[39;49m\u001b[43mimshow\u001b[49m\u001b[43m(\u001b[49m\u001b[38;5;124;43m'\u001b[39;49m\u001b[38;5;124;43mVerification\u001b[39;49m\u001b[38;5;124;43m'\u001b[39;49m\u001b[43m,\u001b[49m\u001b[43m \u001b[49m\u001b[43mcap\u001b[49m\u001b[38;5;241;43m.\u001b[39;49m\u001b[43mread\u001b[49m\u001b[43m(\u001b[49m\u001b[43m)\u001b[49m\u001b[43m[\u001b[49m\u001b[38;5;241;43m1\u001b[39;49m\u001b[43m]\u001b[49m\u001b[43m)\u001b[49m\n\u001b[0;32m      3\u001b[0m \u001b[38;5;28;01mwhile\u001b[39;00m cap\u001b[38;5;241m.\u001b[39misOpened():\n\u001b[0;32m      4\u001b[0m     ret, frame \u001b[38;5;241m=\u001b[39m cap\u001b[38;5;241m.\u001b[39mread()\n",
      "\u001b[1;31merror\u001b[0m: OpenCV(4.9.0) D:\\a\\opencv-python\\opencv-python\\opencv\\modules\\highgui\\src\\window.cpp:971: error: (-215:Assertion failed) size.width>0 && size.height>0 in function 'cv::imshow'\n"
     ]
    }
   ],
   "source": [
    "cap = cv2.VideoCapture(0)\n",
    "cv2.imshow('Verification', cap.read()[1])\n",
    "while cap.isOpened():\n",
    "    ret, frame = cap.read()\n",
    "    frame = frame[120:120+250,200:200+250, :]\n",
    "    \n",
    "    cv2.imshow('Verification', frame)\n",
    "    \n",
    "    # Verification trigger\n",
    "    if cv2.waitKey(10) & 0xFF == ord('v'):\n",
    "\n",
    "        cv2.imwrite(os.path.join('application_data', 'input_image', 'input_image.jpg'), frame)\n",
    "        # Run verification\n",
    "        results, verified = verify(siamese_model, 0.5, 0.5)\n",
    "        print(verified)\n",
    "    \n",
    "    if cv2.waitKey(10) & 0xFF == ord('q'):\n",
    "        break\n",
    "cap.release()\n",
    "cv2.destroyAllWindows()\n"
   ]
  },
  {
   "cell_type": "code",
   "execution_count": null,
   "metadata": {},
   "outputs": [],
   "source": [
    "np.sum(np.squeeze(results) > 0.9)"
   ]
  },
  {
   "cell_type": "code",
   "execution_count": null,
   "metadata": {},
   "outputs": [],
   "source": [
    "44/50"
   ]
  },
  {
   "cell_type": "code",
   "execution_count": null,
   "metadata": {},
   "outputs": [],
   "source": []
  },
  {
   "cell_type": "code",
   "execution_count": null,
   "metadata": {},
   "outputs": [],
   "source": []
  }
 ],
 "metadata": {
  "kernelspec": {
   "display_name": "Python 3 (ipykernel)",
   "language": "python",
   "name": "python3"
  },
  "language_info": {
   "codemirror_mode": {
    "name": "ipython",
    "version": 3
   },
   "file_extension": ".py",
   "mimetype": "text/x-python",
   "name": "python",
   "nbconvert_exporter": "python",
   "pygments_lexer": "ipython3",
   "version": "3.9.18"
  }
 },
 "nbformat": 4,
 "nbformat_minor": 4
}
